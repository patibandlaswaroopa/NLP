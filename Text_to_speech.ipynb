{
  "nbformat": 4,
  "nbformat_minor": 0,
  "metadata": {
    "colab": {
      "provenance": [],
      "authorship_tag": "ABX9TyOH3vAMQJeo2LO3Y4N2PrSX",
      "include_colab_link": true
    },
    "kernelspec": {
      "name": "python3",
      "display_name": "Python 3"
    },
    "language_info": {
      "name": "python"
    }
  },
  "cells": [
    {
      "cell_type": "markdown",
      "metadata": {
        "id": "view-in-github",
        "colab_type": "text"
      },
      "source": [
        "<a href=\"https://colab.research.google.com/github/patibandlaswaroopa/NLP/blob/main/Text_to_speech.ipynb\" target=\"_parent\"><img src=\"https://colab.research.google.com/assets/colab-badge.svg\" alt=\"Open In Colab\"/></a>"
      ]
    },
    {
      "cell_type": "code",
      "execution_count": 2,
      "metadata": {
        "colab": {
          "base_uri": "https://localhost:8080/"
        },
        "id": "QIsrNL_y3hqs",
        "outputId": "2baae706-021f-490d-b683-fab757634bbd"
      },
      "outputs": [
        {
          "output_type": "stream",
          "name": "stdout",
          "text": [
            "Requirement already satisfied: gTTS in /usr/local/lib/python3.10/dist-packages (2.4.0)\n",
            "Requirement already satisfied: requests<3,>=2.27 in /usr/local/lib/python3.10/dist-packages (from gTTS) (2.31.0)\n",
            "Requirement already satisfied: click<8.2,>=7.1 in /usr/local/lib/python3.10/dist-packages (from gTTS) (8.1.7)\n",
            "Requirement already satisfied: charset-normalizer<4,>=2 in /usr/local/lib/python3.10/dist-packages (from requests<3,>=2.27->gTTS) (3.3.2)\n",
            "Requirement already satisfied: idna<4,>=2.5 in /usr/local/lib/python3.10/dist-packages (from requests<3,>=2.27->gTTS) (3.6)\n",
            "Requirement already satisfied: urllib3<3,>=1.21.1 in /usr/local/lib/python3.10/dist-packages (from requests<3,>=2.27->gTTS) (2.0.7)\n",
            "Requirement already satisfied: certifi>=2017.4.17 in /usr/local/lib/python3.10/dist-packages (from requests<3,>=2.27->gTTS) (2023.11.17)\n"
          ]
        }
      ],
      "source": [
        "!pip install gTTS"
      ]
    },
    {
      "cell_type": "code",
      "source": [
        "from gtts import gTTS\n",
        "from IPython.display import Audio\n",
        "tts = gTTS ('HI hello this is swaroopa')\n",
        "tts.save('1.wav')\n",
        "sound_file = '1.wav'\n",
        "Audio (sound_file, autoplay=True)"
      ],
      "metadata": {
        "colab": {
          "base_uri": "https://localhost:8080/",
          "height": 76
        },
        "id": "Z-tX46rQ33YE",
        "outputId": "0292ef5f-b35a-408b-e851-abfffd979855"
      },
      "execution_count": 5,
      "outputs": [
        {
          "output_type": "execute_result",
          "data": {
            "text/plain": [
              "<IPython.lib.display.Audio object>"
            ],
            "text/html": [
              "\n",
              "                <audio  controls=\"controls\" autoplay=\"autoplay\">\n",
              "                    <source src=\"data:audio/x-wav;base64,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\" type=\"audio/x-wav\" />\n",
              "                    Your browser does not support the audio element.\n",
              "                </audio>\n",
              "              "
            ]
          },
          "metadata": {},
          "execution_count": 5
        }
      ]
    }
  ]
}